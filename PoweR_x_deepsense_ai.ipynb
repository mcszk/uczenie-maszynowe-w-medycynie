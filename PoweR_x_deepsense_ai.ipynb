{
  "cells": [
    {
      "cell_type": "markdown",
      "metadata": {
        "id": "GirAQvZS5KkE"
      },
      "source": [
        "<img src=\"https://gist.githubusercontent.com/jakubczakon/10e5eb3d5024cc30cdb056d5acd3d92f/raw/5c464c16ccbc7150b4025e0a2a05b84ab99a7bc3/logo_DS_AI.png\" alt=\"Drawing\" width=\"600\"/>\n",
        "\n",
        "# PoweR x deepsense.ai"
      ]
    },
    {
      "cell_type": "markdown",
      "metadata": {
        "id": "86gGfUcXr4os"
      },
      "source": [
        "## Case study - wykrywanie ryzyka udaru\n",
        "Według Światowej organizacji zdrowia udar jest 2. z kolei najczęstszą przyczyną śmierci na świecie (11% z ogólnej liczby zgonów). \n",
        "Naszym celem jest ocena ryzyka wystąpienia udaru u pacjenta na podstawie takich parametrów jak płeć, wiek, BMI, występowanie pewnych chorób, itp.\n",
        "\n",
        "Stworzenie algorytmu działającego z wysoką skutecznością pozwoliłoby na wczesną detekcję możliwości wystąpienia udaru i zastosowanie odpowiedniego leczenia / wskazań dla pacjenta."
      ]
    },
    {
      "cell_type": "code",
      "execution_count": null,
      "metadata": {
        "id": "FamPR5DvP-1N"
      },
      "outputs": [],
      "source": [
        "!pip install pandas-profiling==3.1.0 --quiet\n",
        "!pip install eli5 --quiet\n",
        "!pip install shap --quiet\n",
        "!pip install tensorboard --quiet"
      ]
    },
    {
      "cell_type": "code",
      "execution_count": null,
      "metadata": {
        "id": "581f5ZriG-04"
      },
      "outputs": [],
      "source": [
        "import os\n",
        "import io\n",
        "from datetime import datetime\n",
        "\n",
        "import pandas as pd\n",
        "import seaborn as sns\n",
        "import numpy as np\n",
        "import tensorflow as tf\n",
        "\n",
        "from sklearn.preprocessing import StandardScaler, LabelEncoder"
      ]
    },
    {
      "cell_type": "markdown",
      "metadata": {
        "id": "9HiOKrfH3KgP"
      },
      "source": [
        "## Pierwsze spojrzenie na dane\n",
        "\n",
        "Zanim dokonamy **jakiegokolwiek** uczenia maszynowego - kluczowe jest, aby zaznajomić się z danymi. Przeczytanie opisu danych jest istotne, lecz nie jest wystarczające!\n",
        "\n",
        "Problemy które możemy napotkać:\n",
        "\n",
        "* brakujące wartości (czy są? jak często? skorelowane?),\n",
        "* różne formaty danych (np. kod pocztowy w różnych formatach stringów),\n",
        "* brak konsekwencji w oznaczeniach (np. \"USA\" i \"United States of America\" jako oznaczenia tego samego kraju),\n",
        "* dane nie są zbalansowane,\n",
        "* odstające wartości,\n",
        "* jednostki (np. czas w sekundach, dochód w lokalnej walucie).\n",
        "\n",
        "Estymuje się, że około 80% pracy osoby na stanowisku Data Scientist opiera się na czyszczeniu, przetwarzaniu i przygotowywaniu danych."
      ]
    },
    {
      "cell_type": "code",
      "execution_count": null,
      "metadata": {
        "id": "0ToYMFKWEoR4"
      },
      "outputs": [],
      "source": [
        "data = pd.read_csv('https://raw.githubusercontent.com/mcszk/uczenie-maszynowe-w-medycynie/main/data/healthcare-dataset-stroke-data.csv', delimiter = ',', encoding = 'utf-8')\n",
        "data.head(3).T"
      ]
    },
    {
      "cell_type": "code",
      "execution_count": null,
      "metadata": {
        "id": "s2OHC2dAEoT7"
      },
      "outputs": [],
      "source": [
        "# typy danych\n",
        "data.info()"
      ]
    },
    {
      "cell_type": "code",
      "execution_count": null,
      "metadata": {
        "id": "C12BYuZREoV1"
      },
      "outputs": [],
      "source": [
        "data.describe(exclude = 'object')"
      ]
    },
    {
      "cell_type": "code",
      "execution_count": null,
      "metadata": {
        "id": "ewXmMGiFP6wP"
      },
      "outputs": [],
      "source": [
        "from pandas_profiling import ProfileReport\n",
        "profile = ProfileReport(data, title='Stroke Prediction Dataset')\n",
        "profile"
      ]
    },
    {
      "cell_type": "code",
      "execution_count": null,
      "metadata": {
        "id": "02pwEHpbEoZx"
      },
      "outputs": [],
      "source": [
        "import matplotlib.pyplot as plt\n",
        "%matplotlib inline\n",
        "plt.figure(figsize=(16,8))\n",
        "sns.heatmap(data.corr(), annot=True)"
      ]
    },
    {
      "cell_type": "code",
      "execution_count": null,
      "metadata": {
        "id": "wdbu6yEB9REe"
      },
      "outputs": [],
      "source": [
        "data"
      ]
    },
    {
      "cell_type": "code",
      "execution_count": null,
      "metadata": {
        "id": "kKgd06Q48aMI"
      },
      "outputs": [],
      "source": [
        "sns.jointplot(data=data, x=\"age\", y=\"bmi\")"
      ]
    },
    {
      "cell_type": "code",
      "execution_count": null,
      "metadata": {
        "id": "1-nLm2o-S9yu"
      },
      "outputs": [],
      "source": [
        "sns.displot(x='age', hue='stroke', data=data, alpha=0.5)"
      ]
    },
    {
      "cell_type": "code",
      "execution_count": null,
      "metadata": {
        "id": "akVnJmam2VQW"
      },
      "outputs": [],
      "source": [
        "sns.pairplot(data,hue='stroke',palette='Dark2');\n",
        "plt.tight_layout()"
      ]
    },
    {
      "cell_type": "markdown",
      "metadata": {
        "id": "Qj0iQHorAfWo"
      },
      "source": [
        "## Przetwarzanie danych"
      ]
    },
    {
      "cell_type": "code",
      "execution_count": null,
      "metadata": {
        "id": "8onMefQhpVb-"
      },
      "outputs": [],
      "source": [
        "data"
      ]
    },
    {
      "cell_type": "code",
      "execution_count": null,
      "metadata": {
        "id": "T3VmHml6JpLs"
      },
      "outputs": [],
      "source": [
        "data_copy = data.copy()\n",
        "\n",
        "X = data.drop(['stroke','id'], axis = 1)\n",
        "y = data['stroke']\n",
        "\n",
        "nominal = ['gender', 'ever_married', 'work_type', 'Residence_type', 'smoking_status'] \n",
        "\n",
        "# enkodowanie one-hot \n",
        "temp = X.drop(columns = nominal)\n",
        "dummies = pd.get_dummies(X[nominal])\n",
        "X = pd.concat([temp,dummies], axis = 1)\n",
        "X"
      ]
    },
    {
      "cell_type": "code",
      "execution_count": null,
      "metadata": {
        "id": "prkIksMXAwbu"
      },
      "outputs": [],
      "source": [
        "# brakujące wartości?\n",
        "X.isnull().sum()"
      ]
    },
    {
      "cell_type": "markdown",
      "metadata": {
        "id": "tzzwLLM36jZn"
      },
      "source": [
        "Istnieje kilka sposobów na radzenie sobie z brakującymi danymi:\n",
        "- usunięcie wierszy z brakującymi danymi\n",
        "- usunięcie kolumn z dużymi brakami danych\n",
        "- wypełnienie braków średnią/medianą z pozostałych danych\n",
        "- użycie bardziej skomplikowanych sposobów np. MICE\n",
        "\n",
        "MICE - Multiple Imputation by Chained Equations.\n",
        "\n",
        "Opis algorytmu MICE w kilku krokach:\n",
        "1. Zastępujemy brakujące dane (dla każdej zmiennej która ma braki) przez chwilowy 'wypełniacz' np. średnią. Jeśli mamy brakujące dane dla wieku oraz indeksu bmi - wypełniamy braki średnią wieku i średnią bmi.\n",
        "2. Wybieramy jedną ze zmiennych i zamieniamy wypełnione wartości z powrotem na brakujące (ale tylko dla tej jednej zmiennej, np. dla wieku).\n",
        "3. Dokonujemy regresji dla wieku korzystając z innych zmiennych (objaśniających) które miały braki (u nas - cecha bmi). W tym celu nie bierzemy pod uwagę brakujących danych dla wieku.\n",
        "4. Używamy naszego modelu do predykcji brakujących wartości wieku.\n",
        "5. Powtarzamy kroki 2-4 dla innych cech z brakującymi danymi (u nas bmi)."
      ]
    },
    {
      "cell_type": "code",
      "execution_count": null,
      "metadata": {
        "id": "izux90n25Fzy"
      },
      "outputs": [],
      "source": [
        "# przykładowy kod\n",
        "from sklearn.experimental import enable_iterative_imputer\n",
        "from sklearn.impute import IterativeImputer\n",
        "train_mice = data.copy(deep=True)\n",
        "\n",
        "mice_imputer = IterativeImputer()\n",
        "new_bmi = mice_imputer.fit_transform(X)"
      ]
    },
    {
      "cell_type": "code",
      "execution_count": null,
      "metadata": {
        "id": "BIhvZfWTL0Bg"
      },
      "outputs": [],
      "source": [
        "# uzupełnijmy\n",
        "# to remove\n",
        "X['bmi'] = X['bmi'].fillna(round(X['bmi'].median(),2))\n",
        "X.isnull().sum()"
      ]
    },
    {
      "cell_type": "markdown",
      "metadata": {
        "id": "aoAbnNLvFIqc"
      },
      "source": [
        "## Podział na zbiór uczący i testowy"
      ]
    },
    {
      "cell_type": "code",
      "execution_count": null,
      "metadata": {
        "id": "dIyDJHjlFGZR"
      },
      "outputs": [],
      "source": [
        "# możemy łatwo dokonać podziału korzystając z gotowej funkcji\n",
        "from sklearn.model_selection import train_test_split\n",
        "\n",
        "X_train, X_test, y_train, y_test = train_test_split(X, y, test_size = 0.25, shuffle = True, random_state = 123)"
      ]
    },
    {
      "cell_type": "markdown",
      "metadata": {
        "id": "oXNSxwUd3kJL"
      },
      "source": [
        "## Zmniejszanie wymiarowości i wizualizacja"
      ]
    },
    {
      "cell_type": "markdown",
      "metadata": {
        "id": "VllX1OzePKNq"
      },
      "source": [
        "Analiza głównych składowych (Principal Component Analysis, PCA) \n",
        "Pozwala nam znaleźć najlepsze ustawienie kamery na dane - takie rzutowanie, które ograniczy liczbę wymiarów na które patrzymy ale zachowa jak najwięcej informacji o danych."
      ]
    },
    {
      "cell_type": "code",
      "execution_count": null,
      "metadata": {
        "id": "6shBh2q5sxeq"
      },
      "outputs": [],
      "source": [
        "X_for_viz = (X - X.mean()) / X.std()"
      ]
    },
    {
      "cell_type": "code",
      "execution_count": null,
      "metadata": {
        "id": "iwEnkw6_JpN8"
      },
      "outputs": [],
      "source": [
        "from sklearn.decomposition import PCA\n",
        "data_pca = PCA(n_components= 2).fit_transform(X_for_viz)"
      ]
    },
    {
      "cell_type": "code",
      "execution_count": null,
      "metadata": {
        "id": "mPHevX8bx4dZ"
      },
      "outputs": [],
      "source": [
        "feature = \"stroke\"\n",
        "data_to_plot_pca = pd.DataFrame(np.column_stack((data_pca ,data[feature])), columns=[\"x1\", \"x2\", feature])\n",
        "sns.lmplot(x=\"x1\", y=\"x2\", data=data_to_plot_pca, fit_reg=False, hue=feature, palette='Dark2', height=12)"
      ]
    },
    {
      "cell_type": "markdown",
      "metadata": {
        "id": "UReOpSit7CO6"
      },
      "source": [
        "t-SNE - t-distributed Stochastic Neighbor Embedding.\n",
        "\n",
        "Wyliczamy rozkład odległości między punktami w oryginalnej wymiarowości.\n",
        "Tworzymy 'losowy' rzut punktów na mniejszą podprzestrzeń (np. dwuwymiarową).\n",
        "Ponownie obliczamy rozkład odległości. Chcemy, aby rozkład w wielu i w dwóch wymiarach były jak najbardziej podobne do siebie.\n",
        "\n",
        "Poprawiamy nasz rzut iteracyjnie, korzystając z dywergencji Kullbacka-Leiblera jako funkcji straty i spadku podług gradientu."
      ]
    },
    {
      "cell_type": "markdown",
      "metadata": {
        "id": "psgdOoBr3s6E"
      },
      "source": [
        "![](https://zaburo-ch.github.io/images/mnist_process.gif)"
      ]
    },
    {
      "cell_type": "code",
      "execution_count": null,
      "metadata": {
        "id": "OdaizfDcypVl"
      },
      "outputs": [],
      "source": [
        "from sklearn.manifold import TSNE\n",
        "tsne = TSNE(n_components=2, perplexity=25, verbose=2, random_state=12)"
      ]
    },
    {
      "cell_type": "code",
      "execution_count": null,
      "metadata": {
        "id": "P6Vd7mQ0ysSe"
      },
      "outputs": [],
      "source": [
        "data_tsne = tsne.fit_transform(X_for_viz)"
      ]
    },
    {
      "cell_type": "code",
      "execution_count": null,
      "metadata": {
        "id": "OVnUgTZ91RlT"
      },
      "outputs": [],
      "source": [
        "data_tsne"
      ]
    },
    {
      "cell_type": "code",
      "execution_count": null,
      "metadata": {
        "id": "GkCIp3_Gy0QN"
      },
      "outputs": [],
      "source": [
        "feature = \"stroke\"\n",
        "data_to_plot_tsne = pd.DataFrame(np.column_stack((data_tsne, data[feature])), columns=[\"x1\", \"x2\", feature])\n",
        "sns.lmplot(x=\"x1\", y=\"x2\", data=data_to_plot_tsne, fit_reg=False, hue=feature, palette='Dark2', size=12)"
      ]
    },
    {
      "cell_type": "markdown",
      "metadata": {
        "id": "0mpDlhkEkAMT"
      },
      "source": [
        "## Sposoby radzenia sobie z niezbalansowanym zbiorem danych"
      ]
    },
    {
      "cell_type": "markdown",
      "metadata": {
        "id": "rAQdVByGkGhX"
      },
      "source": [
        "Czemu przeszkada nam brak zbalansowania klas w zbiorze danych?\n",
        "\n",
        "1. Znaczna część algorytmów uczenia maszynowego dostępnych w popularnych implementacjach korzysta z założenia równoliczności klas. Wobec tego, należy je często zmodyfikować aby móc z sukcesem zastosować je w problemach, gdzie tej równoliczności nie ma.\n",
        "2. Brak zbalansowania zbioru danych może powodować niepoprawną interpretację metryk używanych do walidacji modelu. Najpopularniejszym przykładem jest tutaj *dokładność* (ang. *accuracy*).\n",
        "\n",
        "![](https://i.redd.it/b60z0fe8xiu51.jpg)\n",
        "\n",
        "Jak poradzić sobie z brakiem balansu klas?\n",
        "\n",
        "1. Podpróbkowanie (*undersampling*) - wybieramy podzbiór obserwacji klasy większościowej tak, aby wyrównać liczbę obserwacji w klasach z których korzystamy\n",
        "2. Nadpróbkowanie (*oversampling*) - *wygenerowanie* większej liczby obserwacji dla klasy mniejszościowej\n",
        "3. Uwzględnienie ważenia obserwacji w funkcji straty w modelu który wykorzystujemy."
      ]
    },
    {
      "cell_type": "code",
      "execution_count": null,
      "metadata": {
        "id": "xjxASWPbL7d_"
      },
      "outputs": [],
      "source": [
        "# SMOTE \n",
        "from imblearn.over_sampling import SMOTE"
      ]
    },
    {
      "cell_type": "markdown",
      "metadata": {
        "id": "QJPxkMpRqGLB"
      },
      "source": [
        "SMOTE: Synthetic Minority Over-sampling Technique. Jest to technika pozwalająca na syntetyczne generowanie danych dla klasy mniejszościowej korzystająć z dostępnych obserwacji.\n",
        "\n",
        "Jak działa SMOTE?:\n",
        "\n",
        "    1. Z klasy mniejszościowej wybieramy losowo obserwację.\n",
        "    2. Dla wybranej obserwacji znajdujemy k najbliższych sąsiadów.\n",
        "    3. Wybieramy jednego z tych sąsiadów i wyznaczamy odcinek łączący początkową obserwację i losowo wybranego sąsiada.\n",
        "       Losowo z odcinka wybieramy punkt, jest to syntetycznie stworzona obserwacja, którą będziemy zaliczać do mniej licznej z klas.\n",
        "    4. Powtarzamy kroki 1-3, aż dane zostaną zbalansowane.\n",
        "\n",
        "![](https://miro.medium.com/max/1400/1*6UFpLFl59O9e3e38ffTXJQ.png)\n",
        "\n",
        "Inne opcje: ADASYN, borderline-SMOTE etc."
      ]
    },
    {
      "cell_type": "code",
      "execution_count": null,
      "metadata": {
        "id": "0xusm41XF4sV"
      },
      "outputs": [],
      "source": [
        "# before SMOTE\n",
        "print(f\"{sum(y_train == 1)} and {sum(y_train == 0)}\")"
      ]
    },
    {
      "cell_type": "code",
      "execution_count": null,
      "metadata": {
        "id": "2l17a9qtMDeL"
      },
      "outputs": [],
      "source": [
        "smote = SMOTE(random_state=420)\n",
        "X_train, y_train = smote.fit_resample(X_train ,y_train.ravel())"
      ]
    },
    {
      "cell_type": "code",
      "execution_count": null,
      "metadata": {
        "id": "FQg-PmwcMMkZ"
      },
      "outputs": [],
      "source": [
        "# after SMOTE\n",
        "print(f\"{sum(y_train == 1)} and {sum(y_train == 0)}\")"
      ]
    },
    {
      "cell_type": "markdown",
      "metadata": {
        "id": "ANXyMjBG8HVV"
      },
      "source": [
        "## Modelowanie - model bazowy"
      ]
    },
    {
      "cell_type": "markdown",
      "metadata": {
        "id": "QFdeR5RfKIeQ"
      },
      "source": [
        "### Drzewo decyzyjne (ang. *decision tree*)"
      ]
    },
    {
      "cell_type": "markdown",
      "metadata": {
        "id": "3XnVRIbE8iEY"
      },
      "source": [
        "Zacznijmy od pojedynczego drzewa decyzyjnego."
      ]
    },
    {
      "cell_type": "code",
      "execution_count": null,
      "metadata": {
        "id": "zGo6jKYY5GTt"
      },
      "outputs": [],
      "source": [
        "from sklearn.tree import DecisionTreeClassifier\n",
        "from sklearn import tree\n",
        "import graphviz "
      ]
    },
    {
      "cell_type": "code",
      "execution_count": null,
      "metadata": {
        "id": "hR1T6RWv5GWI"
      },
      "outputs": [],
      "source": [
        "tree_classifier = DecisionTreeClassifier(max_depth = 5)"
      ]
    },
    {
      "cell_type": "code",
      "execution_count": null,
      "metadata": {
        "id": "umuUa6T45GYd"
      },
      "outputs": [],
      "source": [
        "tree_classifier.fit(X_train, y_train)"
      ]
    },
    {
      "cell_type": "code",
      "execution_count": null,
      "metadata": {
        "id": "yO_jfn34xDNQ"
      },
      "outputs": [],
      "source": [
        "print(f\"Train accuracy: {tree_classifier.score(X_train, y_train):.3f}\")\n",
        "print(f\"Test accuracy: {tree_classifier.score(X_test, y_test):.3f}\")"
      ]
    },
    {
      "cell_type": "code",
      "execution_count": null,
      "metadata": {
        "id": "yl47_i-gxDR0"
      },
      "outputs": [],
      "source": [
        "dot_data = tree.export_graphviz(tree_classifier)"
      ]
    },
    {
      "cell_type": "code",
      "execution_count": null,
      "metadata": {
        "id": "nGi9FAh058gu"
      },
      "outputs": [],
      "source": [
        "graph = graphviz.Source(dot_data)  "
      ]
    },
    {
      "cell_type": "code",
      "execution_count": null,
      "metadata": {
        "id": "QPO75jDj58i1"
      },
      "outputs": [],
      "source": [
        "graph.render(\"stroke_data\")"
      ]
    },
    {
      "cell_type": "code",
      "execution_count": null,
      "metadata": {
        "id": "sz7x7lRV6my5"
      },
      "outputs": [],
      "source": [
        "y_pred = tree_classifier.predict(X_test)\n",
        "y_pred_proba = tree_classifier.predict_proba(X_test)[:, 1]"
      ]
    },
    {
      "cell_type": "markdown",
      "metadata": {
        "id": "dIu08esra5hu"
      },
      "source": [
        "## Walidacja modelu"
      ]
    },
    {
      "cell_type": "markdown",
      "metadata": {
        "id": "k9SAvYER7fR6"
      },
      "source": [
        "### Macierz pomyłek"
      ]
    },
    {
      "cell_type": "markdown",
      "metadata": {
        "id": "-gT-jMPqyPMB"
      },
      "source": [
        "![Screenshot from 2022-03-19 21-05-58.png](data:image/png;base64,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)"
      ]
    },
    {
      "cell_type": "code",
      "execution_count": null,
      "metadata": {
        "id": "Mq2fzU5QZ2eS"
      },
      "outputs": [],
      "source": [
        "from sklearn.metrics import confusion_matrix, precision_score, recall_score, f1_score"
      ]
    },
    {
      "cell_type": "code",
      "execution_count": null,
      "metadata": {
        "id": "XJBV_CHDYTwH"
      },
      "outputs": [],
      "source": [
        "conf_matrix = confusion_matrix(y_test, y_pred)"
      ]
    },
    {
      "cell_type": "code",
      "execution_count": null,
      "metadata": {
        "id": "0QgdmnMtYTzH"
      },
      "outputs": [],
      "source": [
        "df_confusion = pd.DataFrame(conf_matrix)\n",
        "\n",
        "df_confusion.index = [\"no stroke\", \"stroke\"]\n",
        "df_confusion.index.name = \"true value\"\n",
        "\n",
        "df_confusion.columns = [\"no stroke\", \"stroke\"]\n",
        "df_confusion.columns.name = \"predicted value\"\n",
        "\n",
        "sns.heatmap(df_confusion, linewidths=3, annot=True, fmt=\"d\")"
      ]
    },
    {
      "cell_type": "markdown",
      "metadata": {
        "id": "bAA6AxtFlKMU"
      },
      "source": [
        "### Czułość, precyzja i F1"
      ]
    },
    {
      "cell_type": "markdown",
      "metadata": {
        "id": "xvD57a8yzZl0"
      },
      "source": [
        "* Czułość (ang. recall / sensitivity) - zdolność modelu do wychwytywania przypadków pozytywnych - *TP/(TP+FN)*\n",
        "* Precyzja (precision) - miara mówiąca o tym, jaka część predykcji \"pozytywnych\" była poprawna - *TP/(TP+FP)*\n",
        "* Miara F1 (F1-Score) - średnia harmoniczna czułości i precyzji"
      ]
    },
    {
      "cell_type": "code",
      "execution_count": null,
      "metadata": {
        "id": "qoxEzFpcYT2p"
      },
      "outputs": [],
      "source": [
        "tn, fp, fn, tp = conf_matrix.reshape(-1)\n",
        "precision = tp/(tp+fp)\n",
        "recall = tp/(tp+fn)\n",
        "f1 = 2*precision*recall/(precision+recall)\n",
        "print(f\"{tp} TP, {tn} TN, {fp} FP, {fn} FN\\nprecision: {precision:.3f}\\nrecall: {recall:.3f}\\nF1: {f1:.3f}\")"
      ]
    },
    {
      "cell_type": "markdown",
      "metadata": {
        "id": "LvT-4s_XgrQC"
      },
      "source": [
        "Czułość i precyzja modelu wydają się niskie - czy nasz model jest bezwartościowy?\n",
        "\n",
        "Być może zazwyczaj nie da się dokładnie przewidzieć wystąpienia udaru na podstawie danych wejściowych.<br>W tym przypadku wydaje się bardziej sensowne, żeby nasz model przewidywał ryzyko prawodopodobieństwo wystąpienia udaru.<br>\n",
        "Jak zmierzyć jakość takiego modelu?"
      ]
    },
    {
      "cell_type": "code",
      "execution_count": null,
      "metadata": {
        "id": "-keZEV5qQpwu"
      },
      "outputs": [],
      "source": [
        "fig, ax = plt.subplots(figsize=(16, 8))\n",
        "fig.suptitle(\"Predicted stroke probability vs. ground truth\", fontsize=20)\n",
        "ax.hist(y_pred_proba[y_test==0], label=\"GT - no stroke\", alpha=0.5, bins=20, range=(0., 1.), density=True)\n",
        "ax.hist(y_pred_proba[y_test==1], label=\"GT - stroke\", alpha=0.5, bins=20, range=(0., 1.), edgecolor='black', linewidth=1., density=True)\n",
        "ax.grid()\n",
        "ax.set_ylabel(\"Ground truth\", fontsize=14)\n",
        "ax.set_xlabel(\"Predicted probability\", fontsize=14)\n",
        "ax.legend(fontsize=12)"
      ]
    },
    {
      "cell_type": "markdown",
      "metadata": {
        "id": "8IjYywsDnQZi"
      },
      "source": [
        "### Strata logarytmiczna (ang. *log loss*)\n",
        "\n",
        "Miara używana w problemach regresji logistycznej - gdy wartości zmiennej objaśnianej wskazują na wystąpienie, lub brak wystąpienia pewnego zdarzenia a model regresji logistycznej oblicza prawdopodobieństwo tego zdarzenia.\n",
        "\n",
        "Dla pojedynczego punktu w danych stratę logarytmiczną wyraża wzór:\n",
        "\n",
        "![Screenshot from 2022-03-19 20-49-35.png](data:image/png;base64,iVBORw0KGgoAAAANSUhEUgAAAYgAAAAlCAYAAABYtn6iAAAABHNCSVQICAgIfAhkiAAAABl0RVh0U29mdHdhcmUAZ25vbWUtc2NyZWVuc2hvdO8Dvz4AAAAodEVYdENyZWF0aW9uIFRpbWUAc29iLCAxOSBtYXIgMjAyMiwgMjA6NDk6NDAo/T8PAAAXcElEQVR4nO2dXVCTV97Af/vOO3muyFVy03BDmE4JzvDhDEH3NVgLqAviCtoKpQtYW/xgrVsXXa1a24pW69e2vlrFWj+2CtaKviq6S3GnEGcLOrMEZ5p4YcKFSS8INzzc8OTmvBcJGsgTEj6EuPP8ZryQk+d8/M/5n////M95zvMbIYRAQ0NDQ0NjDP812xXQ0NDQ0EhMNAOhoaGhoaGKZiA0NDQ0NFTRDISGhoaGhiqagdDQ0NDQUEUzEBoaGhoaqmgGQkNDQ0NDlZfXQMg+3H5lFiug4HX7kGexBi8WP263f7YrMUkU/G7PhPtG9nrwzuaQUmVybUkcXh49UbwevC9DRaMhexhXZWOlq/ByGgi/nV0bP6dLlma1GrL9U9bts78Ug39i+Lj1p0186ZntekwGBXfTJj64MDDxRweusHXjGXoSxkhMoS0JxMugJ7LjKDV77jHLU8rUUPo4tfGPXHJHGcCx0tUQE+SXQ6UiY65VZMzJFBlzM8VrczKD/5//vrjaP9HcJoNTnFxVJOo7BmeisBj0i5sbikT5ObcYnu2qTBvD4ueGUlHU4Jham3r2i/w5VpEx3yoy5taJmzMkoP62LSJ/1QXxZJLPP71cJRZsaBFPp7VWkyOetgw+cYunCT/44tWTTlE/P1NkzLWJjLn5YmfXDFXvaYuoXhJj/hp0iyczMr9NjWHnEVG6ZIf4Kcr0GCt9LBM2EEG84uwqi0h51Spqb8/sRP3LqVKRs6FVJExf9beI6vmrxcnJzkgJxnDXHpH/+g7x07RMOl7xXaVFpMyZIQMx2C42zS8SB51TycQtTpbYRPW1qY2w4cHBqRnY8doy3C+e9rSLs7urRM6c0pdj7MWtJ8Pil0OlIuVVm6ifEQPhFd9V2kTpOa9K2qDof+IQN09tEaXzM0X1tURwSmMxLP7dUCRyNrcL9drGSh/N5EJMymO6XYAuh2U2/aSymBTyHb5slCmpLcI4c6WOj7GI9QW/curInYReQseHj0uH7yKVv8fCaVlqmzAadNORUVw4G4/SYXmPNZap5GKmcl0GPcdP0DXpUJPMrQ/ruTWFARG1LZ0fYVtUwbrD1/nR/pCBwOTLmFHi1hMJozlphioFSucJTnlyWF9hGp0gX2fdb5dR9uFRbrc/xPHSCFoiu7qK1PajnHJNJn00kzMQLjvOAGCxkj2D9sHbcpEOYz4rs2auzNhIzCt7A33nRW55Z7suU8R1hcuuFFYWm2e7JhNHsXOuxUd2Wf6UnQd9QSkL5buca5/sDD/FTYzx2pK3H/u/2mn97ghrLDNnfKdOIuqJTFvzPRTbikiHSF/K6X91Yr95gYaylFmp3aRJfoOVWT5+OP9AfSTGSg9jUgbC3f0IH2DOzSF5MhlMCh8drY/RZ+aTPmNlxokln2zpMbftL+upnyDO1nt4k63Mm7lOnT4cd+mQ0yi0ToPHIuWQl6XQ1fpw0lP9lEzEdLYlkYhTT2Zsn1i+z+1Ohey8zJkrc0YwMs9mZsB+h55JpT9nEgZCpueBBzCQbZvSWn5iKI/pdEFqrro193d+TsXyYmyLytnVGT4AFZxNH03gFIVM1+FaipcWULD2DD1+Hx2n/0jFm2UULC1j3ekHkflIZrLMAZzdj6bqO84ifnocPkjLJFUtddrkG8qv+yK7NpZTvLycineqqfnLRboi5g0ZZ8snVCwvpnh5GQXLq9nVdJ1v/1RN8aI8Cj5+Xqbb8ZgBfRrpKssH/4/BPGxL/8gll4y79XPWvVlO8dJiyv50BWdExfWkW0wMuew4J9Cm6WK8tiQU7jtsfbOMgkXFVJzuHdX/suMiH4w9ETZFPVG89/j6L7WULS+j7J1qKjZ+wiVH5Kjzd1/kgzeLKVheRvHSMmr2XeeH03+kYmkemW+G1cn1gJ6Amay0BDfE7ut88GYZBYvK2NrqQ3ZdZ9facsqWF1PwzifcUjmVlGxJI2ngET1u9SxjpY/w3xOurPKQTkcAdBnkzaB9wNOLOyCRbVDRGvdFtjabaLjaSMc7hTQcv8v6vKrg6kZ5wLnDN+jIWhBXMUr3Ub70/4Gmb/qoeeMANb+/y8L6w5y+akbvv0LFolrW6VtpGhWzNJBs0jHk8eAlX3WCfYbjDBUf353YfoWUxvqT+yl5oRNGHw5PgOSsVyK9qWmUb/DoZi0VxyU2/+0CDakSIOM8v4mK399n298aqQwJ0N20iYo9A6z6voXdWRKK6yhlv/8U50ctHMo9wNbuodBEo+Ds9YBpRWRIRr7H3gt6dl89zLWlK9n9zjKyirfz1Xc7SJY8fL18GRUfG7D/NZ/waSLZbABfH26ZGQ2jjtuWRELpZe+ee+Qea2JNcxnLjp+ho+Z/KZEAZNqOH+W2o4iVox6KV08i/XnFcZSKtXdI/uwCTQdNSIC/+3Nq1pbRfaCJrwqD0lJcR6lZexGpvoX2GjPID9j1+xr2mvfResDMB/t8yEqwCL/nMQO6V0hO6BWzn0v775J1rImVx/NY85cyurJW03CsmQajQtfHxbz93ucY//4J88LFZkohmTu4PAqkqqyPYqWHmLiBcD2gZwjItI2vOP577N1+glsOHWu+b2bDuLNmHMgDyBgwRmiNQkfjHVJrm0lVrrPXBUkFpufK5bpP1xCk2zKJrecKXS2PSa/4BL3vHl4gufowX5WFYvLGFFL1AS633MNbURUWXpMw6g0w4MMP4xuIrPdpuvl+vK2eOZQBZBn0hrFSmk75Au6LfLDvIfqaa1Q+G5h60mu2U9m8kr3bL7LwahXJuLh24SFDhrcozAr+TrLkM8/0Deeab8DfG2mtGMlURpYD6IyGiElVbr+Ov2AH6UovX/pBl1XH6c9GDjmYSE3WMdR+hQ45n5KwBuiTDOh4jMcH8TVsuojelkTC33oGZ8EOdicP8G13HxhzSB7pTqWXTkcAXVYO2aPmngnoSThKL198+A0Oyx5OF5uemQ9j7ha2FdxlzfZPKcz6X0qM0HX+Cq6Ama22kM7qreRl6rjcfoWOT5tpuRrWBt8QSGb0iRxf8t7ltvQ7TifL3PINgfQGu09uYaEeQCLVYoLmu1zr/oR5eWHPGQ3oCeAfkEFtJMVKDzFhA+Hufhjaf8hQ33/w27n0wERlcT67jym4f/vNRItQR1aQkUhS2ZdLr91Pdir4m27QFTBQUrbg2SAK1vcVFmeZIh+MQCK9Zj/pFnAffsgAKazKC9uwlX3BNy0NSsQSWZIkUIZmL8TkvkjNhzeIexdEymHbdzueb87JCnIAJH2kgKdPvuC8fgNXQEdh5tiNcBMWk46A/Qa33FVsSA2gRBOmLI9ZgQ0hy4BBivA9JWsdDXoTuM7QE4D04gVh6jCA1x+AgBL0Kkc9KCGhRK8DgGxn19pjKi/WKfg9PnirjHMR4tQxr/4Cu/OizUrR2zJV/K1/puZ0X/wPWN7j/EH1E4N66xYOGU3gPsrlXjBVl5I9kui6T88QpNusEbZ1MnqidF/hBx8YbClj6iKRankFrt/ncrufkgp99M2fQCCijxV5CCRd3PY/7jpPVRfD0S9g90cm9Mp9Oh2gyytiXliFvR4foCAroWXRszwlJB34lSinr2Klh5iggfCH9h+SyLaqn3RxXjhBp6WRSoL1nb5BHq17JIypZsDHty0PCRhWsDJ3pFQ/PXYPJBXFHQ4zWsyAnzZHHxjeGvWc4nhITwB0ySYVpRnTQTNNahXnb1ZNPZ8IMU+nfJXQgA7mO7ac4J98uHxAaiZv1+bww56H/OhQmJclobge0OXXYalZ/XwyCkdlrEvJFlIBtyNk8K1hhkzupdMFGFJIjeZEjdelehsNV20qCX4urd2JdKyRVZNdfbyAU5XG4iO0Fk9PXlKymWTAef0eHlJYX5b5LG18pyEePRk9CGWfjyEguskM4PX8ChiZV7MaS/tFfrR72JAaDDF19gZIsq6mJMqSZdqduunSRQC9mXQ90G2nJwDZtpwwg+ajx/ErkEJq8hjZhBoVVdKx0kNMzEAoj0L7D1Zys1Sylu2cajewrDaaVsj0NB3lsgv0UgCZBayvLwqGwOQHfL39GxxJKRiVATAmITseIdWe51ChHiQ9En3Rz33LD+h0QVJB/vNlrfKIH10BdFkLxix142kn6PJsoyYip/0BQyRRWLogwuuQlQDok2J7I5PZgyCN9Wdf8B6EXkI/nkcxLfKVQiEsGQJjJwoZRQ4ABowhIRoNBlJtBtz7KigD5CEd2fUX2FZjGTOwJSQJUJQo04+fLnvI4IdNEkr3PXoCYCooijA4iiKjoGcGX+MIEastiYSPru4+ML1F4TMHwU/XOE5D3HoSht6QhI5gn4xFCY1Xo8kAgGQwkWxZgNReT3GrDoYC6G37aKovjYh4SPokUAITMBCzdwTF7XjEACmssYZNAv6gTpKWz7KxslaGUAKg10d5pyRWeoiJGQiXna4hIHPBqGVOEJmuwwfoSttCQ5Ted5+u5QNPHa0HbegB9/lyav4i0frXfJyHP+Jc0h7sB21I3Z9g2w4N3+zDqA9lZkohmXvIfkDNW/UP4A9AsiXluVI57KGlblh8XPHQ0ekjOddGarRR6gha63Rr2vO8FDuXW39Fl7mdbYWRcXp5QIYktZXFGBJ1D0IKTsxOnwyoeH7xyjcG2WVvYGr+HrfLA8Xhy7M+HD7AnM+y0HsuTnsvxrJWThfHmiYNJBt1BPwD+CEy9Kk8otMFulxrmCHwc6v5PkNJb7B7kzViIpYHhgjo1Pa8XjQx2pJQDOAZAMxhJ9/k4CEWXZ6a0xCfnkRE+3JLWZz0T257fg3uCz5LkXH3+kCXwTJbcMwqvXac5irsB60xa280GUAZwC8zw/tME8VPl/0xJK0gPczB8bZeoSvwCivr34s8+i/LyCSRaoiiO7HSQ0zomKuz/SEDgCkrM6yTFPyOO3yxsYya5gHmlUV618Gf2Tl14THpec/jkqm5VqT2i9zyy3g9A0h6fVBR9Xokfx9eveX5Ub9kM6lJQ7h9USJ7RjPJSeD3DAQHmN/Orj03GCCFebnPJ7yufTWsqVtH8YfXo8YIg9Ya3PYHwd8oPto+/pQ2/Qq+Olmlsrnmw+0NYMhKS3CFHo8Ussw6/L4+dT8pTvmORkYJAIHn+wlS1hYOVafhbTrAt64Rj1DB2XSCW3IGWw9seTaJ6/USHYc3sevwGb4+fYavz1/kUss9utxjPUmJ1Ewz+B6j+g5WyJAFXPfpkoPluVs+5QuHiTUn97NKZbbyenyQnBZc3s8oMdryDCXojaMwMDRbnu0rWEw68PUF66r4uPXxUX4MQPqoUMgI8emJIiuAgjIyaPT57D6wApPrBHtbPM/Gp9x9gi87JfJ27ufdkFJKBj1K66es2xcaM6cv8m3TddockTfKGi0pmAI+nkU9o9UnVI/gCncWCDk4DPXS6QjWRXadYevxX8n+6DgNeZGSVnyP8ZJGrkXdAMRKHyGOFYSfH9auZG+3zFAgKCDfhWoyW4IZK8oQgRG5jYpPj0H+Fe8AGHVh6bokpEAfLo+ezWVWvmi6h1NOQeruRc4qYmG44koZ5Fl07O1+jFJhjFx66/NpOPYeW/d/RPFyA3q9PtihhpxRS91kSxpJ3GfIcZ8eSlms0t4u+2MwvEGl5S41y/+GMqSQXFBH0/el6hOG/BiHR0f2urTxBJngGMm2maG5FyeRIZd45fsMx1GKN17BLYNO94Bdi3I5VdZI+85M5u1sotV6kS8/rsA2BJIC+sx8Dv1fHYvDYqmpxfmkNn7D5cb7YzLXYSrYw/mTpc+MdWpuBqbjj3B6iXjRb2R5vrJcx6m3yvgCGcxFNHx/hMWqR/z8OF0DGDJz4j9pM42M1xZcRyleewOvIqMoOnQ6H5feyeMHvYRk3YP9r/kzGJYyUnlgP67tJ1i39D7GJAOSMgSkUWhVsbox9cTO1kX1tPkVdDpo25iH1fIeTVffJ7VwP61Xr/Pl8XoKjitIkgIGK2+fvca7uWFlWX7HQuMNrl04xo9jcteZV/DV3/azeOTnFhvZSTdwumSwjFVsO7sW7aRNDm4A63Q6nIeLyWzUI+l/x1d/38G8SclsEoQcnKzyFfj3lVGsgCKl8faxa7ybp74Wcz94jGLOJzvKUi1W+jOm96KosfdCtYrakcvEhtvFprmZojr8cr+e/WLBnNXi7FMh+q/tETvPtYiTh46Ik5c7VW+o7L9WJV6bv0f8rJI23O8WT8Jvn3raLErnWETO7m6VS9Pc4uy7O8RPqnVuF7VzLOK1Da1xX7Y23LFD5MytEzdfhru8xuNJoyiaUyQOqlyoNjH5TgNPm0X5XJuovTb6BtDhfqf46VydWPBq5pgL9Rxi5+uZovzy2Ev2+oMXBs7fI36Ot+zBFlE9xybquybbsn7x3bvvi6uTHg/R2pJgDHvFk6fhjXSKg0ssImXJEfGL2s9ftJ4MO8XJEqvI39Y+ev4Y7he/tB0R5fMtImNzZ9h4GhT/2GwVGRviu7hutnhyqEikvKqul+p4xdlVmSL/ULRbK2OlP+eFfw/i2eJXWsCaChPuHx8+f/u1+yFK7mpKkkH29yEbrVRuquPdChtjN+UBjAVVLOafXOses6R2HaX4f5ZRuPFKKGwk09V4BoeUw+bayPgyci/dZKpf2TGy/2CL9/V7mY6We0jFVSxO6DhmHKSuYE3uAG3NvaP/PlH5TgPyg3v0kMPbxeZR+UtGCwtr6igxB/C6wr+TkMmacjM9LXdHh2bkh8EDB1nWuK9o8bfeoMf8B9ZHWw3HxMji+g9DZ9UnQ5S2JBKKna2LCilc+hFtIXX0t57gB4+BZX/+g4qsZ0BPvPe57UliYUX+6PlDMpJeuIX1tiSGfH1hoWU9C2tWoO++QlvC3pLjp8vRB4ZMcuNdzrrvcM2TyZrqKEcLY6WHE69NmjD97eLghlKRM8cq8it3iKtOIYToFz8d2iJqN+8Q9ZvrRO22ZvFLyHQPd+wQOa9aREro32vzS8Wmc84Iy/70cpXIWXVh1H39w2114rU5RaK+zSuEGBZPLteJnDlFYmeHmgc2LP7dUCU2qV5THrwKN+XVfLGzJ852PmkUpfPrxM0Ed/bixtkoisa0Z2LynSb628Wm162iaHfr6JXLcL/4+VSVyJm7Wpwd61ENd4udr+eL+o4wH7Fti8h51SKKTrnjK3fYIT5bkj/73xtRaUtC0d8syudYRVFDtxgUQgz2NIryuVZResih7o3PiJ54xdV3bSJj1RHx0+glhHjatl+UzrWJ2mtjr/UeFP/YYIvLm54V+ltE9RyLSKlsifMTB4PiH5vzRdGhaN9ziZU+mhcbYoobh/hsSZU4+WSkysOi39ksal9Xuz/eK65uKBLVl8M6etgtrm6rEkUlq0XpqlJRuuGIuPkkSvOfXBC129pVhN0pdr5uDX78KPRvwe7uGPV2i7OVRWJT23+KdQjy5FyVyN8cJqOJyHc6GXSKm6d2iPKSIlG0Klh2/pLVorahWfzcr17+cM9+UVSyR/w8OChubrCN6s+MVY2qoY+wp8W/D5WKot3dCRFyeN6W2a6JGsPil3N1orSkVJSuWi2KKreIkx3eKJPOTOpJv/j3tSNi06pSkV+yOli3JaWifPMRcbUnSvmDnaJ+yWpx0plYxvjp5SqREz5+578vvoshwsGOHaJoVaP4JUpTYqWPJTEMxGC72PR63egvOg07xWclUT4wMuwUZze8Lw72zGaHDoqfG6pE7eX/pK/JjTAofj70vqg9F6fXnWD0t+0R5ZtbJ/xVuP7bO0T5tok/9yKZbFsSh5dET560iE2Ve+L+0lpC8qRZ1Fbuj96GWOkq/EYIIeIOh71AZMcVvmi0oxhM6BnCP6CQXLqFzYWmKDFuBUUJvVQ0SyiKErw64D8URWFW5TslJlN5RUGRpv+KiynzUnfES6Qnidr/caOgjPO+eez0SBLGQGhoaGhoJBYv/BSThoaGhsbLiWYgNDQ0NDRU0QyEhoaGhoYqmoHQ0NDQ0FBFMxAaGhoaGqpoBkJDQ0NDQ5X/B/w7hMILe7pNAAAAAElFTkSuQmCC)\n",
        "\n",
        "![Screenshot from 2022-03-20 13-33-22.png](data:image/png;base64,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)\n",
        "\n",
        "Im **niższa** wartość miary, tym **wyższa** jakość modelu."
      ]
    },
    {
      "cell_type": "code",
      "execution_count": null,
      "metadata": {
        "id": "_JcMySspg6C_"
      },
      "outputs": [],
      "source": [
        "from sklearn.metrics import log_loss\n",
        "\n",
        "model_log_loss = log_loss(y_test, y_pred_proba)\n",
        "print(f\"Log loss: {model_log_loss:.3f}\")"
      ]
    },
    {
      "cell_type": "markdown",
      "metadata": {
        "id": "c7ZixThdnjGC"
      },
      "source": [
        "### Krzywa ROC i miara AUC"
      ]
    },
    {
      "cell_type": "code",
      "execution_count": null,
      "metadata": {
        "id": "v0VM7kOjYT5O"
      },
      "outputs": [],
      "source": [
        "from sklearn.metrics import RocCurveDisplay\n",
        "\n",
        "fig, ax = plt.subplots(figsize=(8, 8))\n",
        "RocCurveDisplay.from_predictions(y_test, y_pred_proba, ax=ax)\n",
        "ax.plot([0, 1], [0, 1], 'k--', linewidth=.5)\n",
        "ax.grid()\n",
        "plt.show()"
      ]
    },
    {
      "cell_type": "code",
      "execution_count": null,
      "metadata": {
        "id": "OvETs2vIZPJz"
      },
      "outputs": [],
      "source": [
        "def plot_confusion_matrix(y_test, y_pred):\n",
        "  confusion_matrix(y_test, y_pred)\n",
        "\n",
        "  df_confusion = pd.DataFrame(confusion_matrix(y_test, y_pred))\n",
        "  df_confusion.index = [\"no stroke\", \"stroke\"]\n",
        "  df_confusion.index.name = \"true value\"\n",
        "  df_confusion.columns = [\"no stroke\", \"stroke\"]\n",
        "  df_confusion.columns.name = \"predicted value\"\n",
        "  fig, ax = plt.subplots(figsize=(8, 6))\n",
        "  sns.heatmap(df_confusion, linewidths=3, annot=True, fmt=\"d\", ax=ax)\n",
        "  fig.suptitle(\"Confusion matrix\", fontsize=16)\n",
        "  return fig\n",
        "\n",
        "def plot_roc(y_test, y_pred_proba):\n",
        "  fig, ax = plt.subplots(figsize=(8, 8))\n",
        "  RocCurveDisplay.from_predictions(y_test, y_pred_proba, ax=ax)\n",
        "  ax.plot([0, 1], [0, 1], 'k--', linewidth=.5)\n",
        "  ax.grid()\n",
        "  fig.suptitle(\"ROC Curve\", fontsize=16)\n",
        "  return fig\n",
        "\n",
        "\n",
        "def plot_scores_distribution(y_test, y_pred_proba):\n",
        "  fig, ax = plt.subplots(figsize=(16, 8))\n",
        "  fig.suptitle(\"Predicted stroke probability vs. ground truth\", fontsize=20)\n",
        "  ax.hist(y_pred_proba[y_test==0], label=\"GT - no stroke\", alpha=0.5, bins=20, range=(0., 1.), density=True)\n",
        "  ax.hist(y_pred_proba[y_test==1], label=\"GT - stroke\", alpha=0.5, bins=20, range=(0., 1.), edgecolor='black', linewidth=1., density=True)\n",
        "  ax.grid()\n",
        "  ax.set_ylabel(\"Ground truth\", fontsize=14)\n",
        "  ax.set_xlabel(\"Predicted probability\", fontsize=14)\n",
        "  ax.legend(fontsize=12)\n",
        "  return fig\n",
        "\n",
        "def validation_report(y_true, y_pred_proba, thr=0.5):\n",
        "  y_pred = y_pred_proba >= thr\n",
        "\n",
        "  model_log_loss = log_loss(y_true, y_pred_proba)\n",
        "  print(f\"Log loss: {model_log_loss:.3f}\")\n",
        "  print('---')\n",
        "\n",
        "  confusion_matrix(y_test, y_pred)\n",
        "\n",
        "  precision = precision_score(y_true, y_pred)\n",
        "  recall = recall_score(y_true, y_pred)\n",
        "  f1 = f1_score(y_true, y_pred)\n",
        "  print(f\"Precision: {precision:.3f}\\nRecall: {recall:.3f}\\nF1: {f1:.3f}\")\n",
        "  print('---')\n",
        "\n",
        "  plot_confusion_matrix(y_test, y_pred).show()\n",
        "  plot_roc(y_test, y_pred_proba).show()\n",
        "  plot_scores_distribution(y_test, y_pred_proba)\n",
        "\n",
        "validation_report(y_test, y_pred_proba)"
      ]
    },
    {
      "cell_type": "markdown",
      "metadata": {
        "id": "3tHtVng3bVeZ"
      },
      "source": [
        "## Śledzenie przebiegów trenowania modeli\n",
        "### Tensorboard"
      ]
    },
    {
      "cell_type": "code",
      "execution_count": null,
      "metadata": {
        "id": "eFEQWpZVhJn9"
      },
      "outputs": [],
      "source": [
        "# Odkomentuj poniższą linię i uruchom komórkę, żeby wyczyścić katalog z logami tensorboarda\n",
        "\n",
        "# ! rm -rf logs"
      ]
    },
    {
      "cell_type": "code",
      "execution_count": null,
      "metadata": {
        "id": "cPCXEQDebVOY"
      },
      "outputs": [],
      "source": [
        "def plot_to_image(figure):\n",
        "  \"\"\"Converts the matplotlib plot specified by 'figure' to a PNG image and\n",
        "  returns it. The supplied figure is closed and inaccessible after this call.\"\"\"\n",
        "  # Save the plot to a PNG in memory.\n",
        "  buf = io.BytesIO()\n",
        "  plt.savefig(buf, format='png')\n",
        "  # Closing the figure prevents it from being displayed directly inside\n",
        "  # the notebook.\n",
        "  plt.close(figure)\n",
        "  buf.seek(0)\n",
        "  # Convert PNG buffer to TF image\n",
        "  image = tf.image.decode_png(buf.getvalue(), channels=4)\n",
        "  # Add the batch dimension\n",
        "  image = tf.expand_dims(image, 0)\n",
        "  return image"
      ]
    },
    {
      "cell_type": "code",
      "execution_count": null,
      "metadata": {
        "id": "pqAD4dohdUsy"
      },
      "outputs": [],
      "source": [
        "experiment_name = 'baseline-' + datetime.now().strftime(\"%m-%d-%H:%M:%S\")\n",
        "\n",
        "def tensorboard_log_exp(exp_name, model, y_true, y_pred_proba, thr=0.5, logdir='logs'):\n",
        "  y_pred = y_pred_proba >= thr\n",
        "\n",
        "  file_writer = tf.summary.create_file_writer(os.path.join(logdir, exp_name))\n",
        "  with file_writer.as_default(step=0):\n",
        "      tf.summary.image(\"ROC\", plot_to_image(plot_roc(y_test, y_pred_proba)))\n",
        "      tf.summary.scalar('Log Loss', log_loss(y_true, y_pred_proba))\n",
        "      tf.summary.scalar('F1 Score', f1_score(y_true, y_pred))\n",
        "      tf.summary.scalar('Recall', recall_score(y_true, y_pred))\n",
        "      tf.summary.scalar('Precision', precision_score(y_true, y_pred))\n",
        "      tf.summary.text('Model', str(model))\n",
        "\n",
        "tensorboard_log_exp(experiment_name, tree_classifier, y_test, y_pred_proba)"
      ]
    },
    {
      "cell_type": "code",
      "execution_count": null,
      "metadata": {
        "id": "CwZXxTJHbVtS"
      },
      "outputs": [],
      "source": [
        "%load_ext tensorboard\n",
        "%tensorboard --logdir logs"
      ]
    },
    {
      "cell_type": "markdown",
      "metadata": {
        "id": "-Mfnp4FY-PNj"
      },
      "source": [
        "### Las losowy (ang. *random forest*)"
      ]
    },
    {
      "cell_type": "code",
      "execution_count": null,
      "metadata": {
        "id": "OzOEsDgW-VoI"
      },
      "outputs": [],
      "source": [
        "from sklearn.ensemble import RandomForestClassifier"
      ]
    },
    {
      "cell_type": "code",
      "execution_count": null,
      "metadata": {
        "id": "9glejjaQxDT5"
      },
      "outputs": [],
      "source": [
        "random_forest_classifier = RandomForestClassifier(n_estimators=100, random_state=12)"
      ]
    },
    {
      "cell_type": "code",
      "execution_count": null,
      "metadata": {
        "id": "znigf1YW-dpU"
      },
      "outputs": [],
      "source": [
        "random_forest_classifier.fit(X_train, y_train)"
      ]
    },
    {
      "cell_type": "code",
      "execution_count": null,
      "metadata": {
        "id": "nUPQWy7t-dvD"
      },
      "outputs": [],
      "source": [
        "y_pred_proba = random_forest_classifier.predict_proba(X_test)[:, 1]"
      ]
    },
    {
      "cell_type": "code",
      "execution_count": null,
      "metadata": {
        "id": "cxSM45VCoU0q"
      },
      "outputs": [],
      "source": [
        "validation_report(y_test, y_pred_proba)"
      ]
    },
    {
      "cell_type": "code",
      "execution_count": null,
      "metadata": {
        "id": "SbzdE8-06SXV"
      },
      "outputs": [],
      "source": [
        "experiment_name = 'rf-' + datetime.now().strftime(\"%m-%d-%H:%M:%S\")\n",
        "\n",
        "tensorboard_log_exp(experiment_name, random_forest_classifier, y_test, y_pred_proba)"
      ]
    },
    {
      "cell_type": "markdown",
      "metadata": {
        "id": "rgCP-Cr3-sYy"
      },
      "source": [
        "### XGBoost"
      ]
    },
    {
      "cell_type": "code",
      "execution_count": null,
      "metadata": {
        "id": "DXilVu767esG"
      },
      "outputs": [],
      "source": [
        "import xgboost as xgb"
      ]
    },
    {
      "cell_type": "code",
      "execution_count": null,
      "metadata": {
        "id": "FJWTTxfj-vaO"
      },
      "outputs": [],
      "source": [
        "xgb_model = xgb.XGBClassifier(n_estimators=100, random_state=12)"
      ]
    },
    {
      "cell_type": "code",
      "execution_count": null,
      "metadata": {
        "id": "G-PIcgL_7euj"
      },
      "outputs": [],
      "source": [
        "xgb_model.fit(X_train, y_train)"
      ]
    },
    {
      "cell_type": "code",
      "execution_count": null,
      "metadata": {
        "id": "8Tqzp432p_oH"
      },
      "outputs": [],
      "source": [
        "y_pred_proba = xgb_model.predict_proba(X_test)[:, 1]"
      ]
    },
    {
      "cell_type": "code",
      "execution_count": null,
      "metadata": {
        "id": "PWza2WYPqEqt"
      },
      "outputs": [],
      "source": [
        "validation_report(y_test, y_pred_proba)"
      ]
    },
    {
      "cell_type": "code",
      "execution_count": null,
      "metadata": {
        "id": "UKp1eSo46ccV"
      },
      "outputs": [],
      "source": [
        "experiment_name = 'xgb-' + datetime.now().strftime(\"%m-%d-%H:%M:%S\")\n",
        "\n",
        "tensorboard_log_exp(experiment_name, xgb_model, y_test, y_pred_proba)"
      ]
    },
    {
      "cell_type": "markdown",
      "metadata": {
        "id": "t2u-Fm6OAvBI"
      },
      "source": [
        "![](https://ksopyla.com/wp-content/uploads/2018/12/Grid_search_vs_random_search_cross_validation.png)\n",
        "\n",
        "Jak wybrać hiperparametry modelu tak, żeby zapewnić możliwie jak najlepszy wynik?"
      ]
    },
    {
      "cell_type": "code",
      "execution_count": null,
      "metadata": {
        "id": "0cv4wVryXyq5"
      },
      "outputs": [],
      "source": [
        "from sklearn.model_selection import GridSearchCV"
      ]
    },
    {
      "cell_type": "code",
      "execution_count": null,
      "metadata": {
        "id": "E7Fhvkd8XqIP"
      },
      "outputs": [],
      "source": [
        "neg_to_pos_ratio = (y_train==0).sum() / (y_train==1).sum()\n",
        "\n",
        "parameters = {\n",
        "    'max_depth': [4, 6, 8],\n",
        "    'n_estimators': [100, 200],\n",
        "    'reg_lambda': [0.1, 1, 10, 100],\n",
        "    'subsample': [0.6, 1]\n",
        "}\n",
        "xgb_model_grid_search = GridSearchCV(xgb.XGBClassifier(random_state=12),\n",
        "                                     param_grid=parameters,\n",
        "                                     scoring='neg_log_loss',\n",
        "                                     cv=3,\n",
        "                                     verbose=1,\n",
        "                                     n_jobs=-1)"
      ]
    },
    {
      "cell_type": "code",
      "execution_count": null,
      "metadata": {
        "id": "qPqfWc-rXqKv"
      },
      "outputs": [],
      "source": [
        "xgb_model_grid_search.fit(X_train, y_train)"
      ]
    },
    {
      "cell_type": "code",
      "execution_count": null,
      "metadata": {
        "id": "orZizXzmxKq9"
      },
      "outputs": [],
      "source": [
        "xgb_model_grid_search.best_params_"
      ]
    },
    {
      "cell_type": "code",
      "execution_count": null,
      "metadata": {
        "id": "uCqH3ii0x3DB"
      },
      "outputs": [],
      "source": [
        "y_pred_proba = xgb_model_grid_search.predict_proba(X_test)[:, 1]"
      ]
    },
    {
      "cell_type": "code",
      "execution_count": null,
      "metadata": {
        "id": "8uEguejwrV-n"
      },
      "outputs": [],
      "source": [
        "validation_report(y_test, y_pred_proba)\n",
        "# validation_report(y_test, y_pred_proba, thr=0.25)"
      ]
    },
    {
      "cell_type": "code",
      "execution_count": null,
      "metadata": {
        "id": "f-BmQJ0B6iBJ"
      },
      "outputs": [],
      "source": [
        "experiment_name = 'xgb-grid-search-' + datetime.now().strftime(\"%m-%d-%H:%M:%S\")\n",
        "\n",
        "tensorboard_log_exp(experiment_name, xgb_model_grid_search, y_test, y_pred_proba)"
      ]
    },
    {
      "cell_type": "code",
      "execution_count": null,
      "metadata": {
        "id": "2099XkJ76sDM"
      },
      "outputs": [],
      "source": [
        "%tensorboard --logdir logs"
      ]
    },
    {
      "cell_type": "markdown",
      "metadata": {
        "id": "xY8hCpeak7pa"
      },
      "source": [
        "## Interpretacja i wytłumaczalność modelu"
      ]
    },
    {
      "cell_type": "code",
      "execution_count": null,
      "metadata": {
        "id": "ZWeOn3-AQqhQ"
      },
      "outputs": [],
      "source": [
        "import eli5"
      ]
    },
    {
      "cell_type": "code",
      "execution_count": null,
      "metadata": {
        "id": "1YX7cAZuQ6eh"
      },
      "outputs": [],
      "source": [
        "# eli5.explain_weights(xgb_model.get_booster())\n",
        "eli5.explain_weights(xgb_model_grid_search.best_estimator_.get_booster())"
      ]
    },
    {
      "cell_type": "code",
      "execution_count": null,
      "metadata": {
        "id": "RowjAP85R0xC"
      },
      "outputs": [],
      "source": [
        "xgb.plot_importance(xgb_model)"
      ]
    },
    {
      "cell_type": "code",
      "execution_count": null,
      "metadata": {
        "id": "WXUsN8UzR0z_"
      },
      "outputs": [],
      "source": [
        "graph = xgb.to_graphviz(xgb_model, num_trees=0)\n",
        "graph"
      ]
    },
    {
      "cell_type": "code",
      "execution_count": null,
      "metadata": {
        "id": "5wVrGrJOR03d"
      },
      "outputs": [],
      "source": [
        "import shap\n",
        "shap.initjs()"
      ]
    },
    {
      "cell_type": "code",
      "execution_count": null,
      "metadata": {
        "id": "I2TuaVnmR06c"
      },
      "outputs": [],
      "source": [
        "shap_values = shap.TreeExplainer(xgb_model_grid_search.best_estimator_).shap_values(X_train)"
      ]
    },
    {
      "cell_type": "code",
      "execution_count": null,
      "metadata": {
        "id": "-zXVQSBmYT77"
      },
      "outputs": [],
      "source": [
        "shap.summary_plot(shap_values, X_train)"
      ]
    },
    {
      "cell_type": "code",
      "source": [
        ""
      ],
      "metadata": {
        "id": "DiXNxK_sg59-"
      },
      "execution_count": null,
      "outputs": []
    }
  ],
  "metadata": {
    "colab": {
      "collapsed_sections": [],
      "name": "PoweR x deepsense.ai.ipynb",
      "provenance": []
    },
    "kernelspec": {
      "display_name": "Python 3",
      "language": "python",
      "name": "python3"
    },
    "language_info": {
      "codemirror_mode": {
        "name": "ipython",
        "version": 3
      },
      "file_extension": ".py",
      "mimetype": "text/x-python",
      "name": "python",
      "nbconvert_exporter": "python",
      "pygments_lexer": "ipython3",
      "version": "3.6.9"
    }
  },
  "nbformat": 4,
  "nbformat_minor": 0
}